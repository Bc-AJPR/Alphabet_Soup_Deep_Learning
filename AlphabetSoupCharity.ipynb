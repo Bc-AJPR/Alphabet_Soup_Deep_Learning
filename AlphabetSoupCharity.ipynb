{
  "cells": [
    {
      "cell_type": "markdown",
      "metadata": {
        "id": "view-in-github",
        "colab_type": "text"
      },
      "source": [
        "<a href=\"https://colab.research.google.com/github/Bc-AJPR/Alphabet_Soup_Deep_Learning/blob/main/AlphabetSoupCharity.ipynb\" target=\"_parent\"><img src=\"https://colab.research.google.com/assets/colab-badge.svg\" alt=\"Open In Colab\"/></a>"
      ]
    },
    {
      "cell_type": "markdown",
      "metadata": {
        "id": "Sd2Y-4l-zRTd"
      },
      "source": [
        "## Preprocessing"
      ]
    },
    {
      "cell_type": "markdown",
      "source": [
        ""
      ],
      "metadata": {
        "id": "YJICBXBt2QdG"
      }
    },
    {
      "cell_type": "code",
      "source": [
        "!git config --global user.name \"Bc-AJPR\"\n",
        "!git config --global user.email \"X\"\n",
        "!git config --global user.password \"X\""
      ],
      "metadata": {
        "id": "rYHi2KoJ76Vz"
      },
      "execution_count": 40,
      "outputs": []
    },
    {
      "cell_type": "code",
      "source": [
        "token = 'X'\n",
        "username = 'Bc-AJPR'\n",
        "repo = 'Alphabet_Soup_Deep_Learning'"
      ],
      "metadata": {
        "id": "tLF0Afsm76j1"
      },
      "execution_count": 45,
      "outputs": []
    },
    {
      "cell_type": "code",
      "source": [
        "!git clone https://{token}@github.com/{username}/{repo}"
      ],
      "metadata": {
        "colab": {
          "base_uri": "https://localhost:8080/"
        },
        "id": "v9Uan9UM76vD",
        "outputId": "9932c77a-c5e0-4a5b-9580-24b65e22bf9e"
      },
      "execution_count": 46,
      "outputs": [
        {
          "output_type": "stream",
          "name": "stdout",
          "text": [
            "Cloning into 'Alphabet_Soup_Deep_Learning'...\n",
            "remote: Enumerating objects: 154, done.\u001b[K\n",
            "remote: Counting objects: 100% (154/154), done.\u001b[K\n",
            "remote: Compressing objects: 100% (56/56), done.\u001b[K\n",
            "remote: Total 154 (delta 97), reused 142 (delta 91), pack-reused 0\u001b[K\n",
            "Receiving objects: 100% (154/154), 1.55 MiB | 2.88 MiB/s, done.\n",
            "Resolving deltas: 100% (97/97), done.\n"
          ]
        }
      ]
    },
    {
      "cell_type": "code",
      "source": [
        "data_url = 'https://raw.githubusercontent.com/Bc-AJPR/Alphabet_Soup_Deep_Learning/main/Resources/charity_data.csv'"
      ],
      "metadata": {
        "id": "R7pzZ3IF2o9G"
      },
      "execution_count": 1,
      "outputs": []
    },
    {
      "cell_type": "code",
      "execution_count": 2,
      "metadata": {
        "colab": {
          "base_uri": "https://localhost:8080/",
          "height": 302
        },
        "id": "gI9E_1jnzRTi",
        "outputId": "977688f3-518c-4c20-8e36-19c0ec89a965"
      },
      "outputs": [
        {
          "output_type": "execute_result",
          "data": {
            "text/plain": [
              "        EIN                                      NAME APPLICATION_TYPE  \\\n",
              "0  10520599              BLUE KNIGHTS MOTORCYCLE CLUB              T10   \n",
              "1  10531628    AMERICAN CHESAPEAKE CLUB CHARITABLE TR               T3   \n",
              "2  10547893        ST CLOUD PROFESSIONAL FIREFIGHTERS               T5   \n",
              "3  10553066            SOUTHSIDE ATHLETIC ASSOCIATION               T3   \n",
              "4  10556103  GENETIC RESEARCH INSTITUTE OF THE DESERT               T3   \n",
              "\n",
              "        AFFILIATION CLASSIFICATION      USE_CASE  ORGANIZATION  STATUS  \\\n",
              "0       Independent          C1000    ProductDev   Association       1   \n",
              "1       Independent          C2000  Preservation  Co-operative       1   \n",
              "2  CompanySponsored          C3000    ProductDev   Association       1   \n",
              "3  CompanySponsored          C2000  Preservation         Trust       1   \n",
              "4       Independent          C1000     Heathcare         Trust       1   \n",
              "\n",
              "      INCOME_AMT SPECIAL_CONSIDERATIONS  ASK_AMT  IS_SUCCESSFUL  \n",
              "0              0                      N     5000              1  \n",
              "1         1-9999                      N   108590              1  \n",
              "2              0                      N     5000              0  \n",
              "3    10000-24999                      N     6692              1  \n",
              "4  100000-499999                      N   142590              1  "
            ],
            "text/html": [
              "\n",
              "  <div id=\"df-8a132d9f-7df6-43fd-acca-640e0638e6b3\">\n",
              "    <div class=\"colab-df-container\">\n",
              "      <div>\n",
              "<style scoped>\n",
              "    .dataframe tbody tr th:only-of-type {\n",
              "        vertical-align: middle;\n",
              "    }\n",
              "\n",
              "    .dataframe tbody tr th {\n",
              "        vertical-align: top;\n",
              "    }\n",
              "\n",
              "    .dataframe thead th {\n",
              "        text-align: right;\n",
              "    }\n",
              "</style>\n",
              "<table border=\"1\" class=\"dataframe\">\n",
              "  <thead>\n",
              "    <tr style=\"text-align: right;\">\n",
              "      <th></th>\n",
              "      <th>EIN</th>\n",
              "      <th>NAME</th>\n",
              "      <th>APPLICATION_TYPE</th>\n",
              "      <th>AFFILIATION</th>\n",
              "      <th>CLASSIFICATION</th>\n",
              "      <th>USE_CASE</th>\n",
              "      <th>ORGANIZATION</th>\n",
              "      <th>STATUS</th>\n",
              "      <th>INCOME_AMT</th>\n",
              "      <th>SPECIAL_CONSIDERATIONS</th>\n",
              "      <th>ASK_AMT</th>\n",
              "      <th>IS_SUCCESSFUL</th>\n",
              "    </tr>\n",
              "  </thead>\n",
              "  <tbody>\n",
              "    <tr>\n",
              "      <th>0</th>\n",
              "      <td>10520599</td>\n",
              "      <td>BLUE KNIGHTS MOTORCYCLE CLUB</td>\n",
              "      <td>T10</td>\n",
              "      <td>Independent</td>\n",
              "      <td>C1000</td>\n",
              "      <td>ProductDev</td>\n",
              "      <td>Association</td>\n",
              "      <td>1</td>\n",
              "      <td>0</td>\n",
              "      <td>N</td>\n",
              "      <td>5000</td>\n",
              "      <td>1</td>\n",
              "    </tr>\n",
              "    <tr>\n",
              "      <th>1</th>\n",
              "      <td>10531628</td>\n",
              "      <td>AMERICAN CHESAPEAKE CLUB CHARITABLE TR</td>\n",
              "      <td>T3</td>\n",
              "      <td>Independent</td>\n",
              "      <td>C2000</td>\n",
              "      <td>Preservation</td>\n",
              "      <td>Co-operative</td>\n",
              "      <td>1</td>\n",
              "      <td>1-9999</td>\n",
              "      <td>N</td>\n",
              "      <td>108590</td>\n",
              "      <td>1</td>\n",
              "    </tr>\n",
              "    <tr>\n",
              "      <th>2</th>\n",
              "      <td>10547893</td>\n",
              "      <td>ST CLOUD PROFESSIONAL FIREFIGHTERS</td>\n",
              "      <td>T5</td>\n",
              "      <td>CompanySponsored</td>\n",
              "      <td>C3000</td>\n",
              "      <td>ProductDev</td>\n",
              "      <td>Association</td>\n",
              "      <td>1</td>\n",
              "      <td>0</td>\n",
              "      <td>N</td>\n",
              "      <td>5000</td>\n",
              "      <td>0</td>\n",
              "    </tr>\n",
              "    <tr>\n",
              "      <th>3</th>\n",
              "      <td>10553066</td>\n",
              "      <td>SOUTHSIDE ATHLETIC ASSOCIATION</td>\n",
              "      <td>T3</td>\n",
              "      <td>CompanySponsored</td>\n",
              "      <td>C2000</td>\n",
              "      <td>Preservation</td>\n",
              "      <td>Trust</td>\n",
              "      <td>1</td>\n",
              "      <td>10000-24999</td>\n",
              "      <td>N</td>\n",
              "      <td>6692</td>\n",
              "      <td>1</td>\n",
              "    </tr>\n",
              "    <tr>\n",
              "      <th>4</th>\n",
              "      <td>10556103</td>\n",
              "      <td>GENETIC RESEARCH INSTITUTE OF THE DESERT</td>\n",
              "      <td>T3</td>\n",
              "      <td>Independent</td>\n",
              "      <td>C1000</td>\n",
              "      <td>Heathcare</td>\n",
              "      <td>Trust</td>\n",
              "      <td>1</td>\n",
              "      <td>100000-499999</td>\n",
              "      <td>N</td>\n",
              "      <td>142590</td>\n",
              "      <td>1</td>\n",
              "    </tr>\n",
              "  </tbody>\n",
              "</table>\n",
              "</div>\n",
              "      <button class=\"colab-df-convert\" onclick=\"convertToInteractive('df-8a132d9f-7df6-43fd-acca-640e0638e6b3')\"\n",
              "              title=\"Convert this dataframe to an interactive table.\"\n",
              "              style=\"display:none;\">\n",
              "        \n",
              "  <svg xmlns=\"http://www.w3.org/2000/svg\" height=\"24px\"viewBox=\"0 0 24 24\"\n",
              "       width=\"24px\">\n",
              "    <path d=\"M0 0h24v24H0V0z\" fill=\"none\"/>\n",
              "    <path d=\"M18.56 5.44l.94 2.06.94-2.06 2.06-.94-2.06-.94-.94-2.06-.94 2.06-2.06.94zm-11 1L8.5 8.5l.94-2.06 2.06-.94-2.06-.94L8.5 2.5l-.94 2.06-2.06.94zm10 10l.94 2.06.94-2.06 2.06-.94-2.06-.94-.94-2.06-.94 2.06-2.06.94z\"/><path d=\"M17.41 7.96l-1.37-1.37c-.4-.4-.92-.59-1.43-.59-.52 0-1.04.2-1.43.59L10.3 9.45l-7.72 7.72c-.78.78-.78 2.05 0 2.83L4 21.41c.39.39.9.59 1.41.59.51 0 1.02-.2 1.41-.59l7.78-7.78 2.81-2.81c.8-.78.8-2.07 0-2.86zM5.41 20L4 18.59l7.72-7.72 1.47 1.35L5.41 20z\"/>\n",
              "  </svg>\n",
              "      </button>\n",
              "      \n",
              "  <style>\n",
              "    .colab-df-container {\n",
              "      display:flex;\n",
              "      flex-wrap:wrap;\n",
              "      gap: 12px;\n",
              "    }\n",
              "\n",
              "    .colab-df-convert {\n",
              "      background-color: #E8F0FE;\n",
              "      border: none;\n",
              "      border-radius: 50%;\n",
              "      cursor: pointer;\n",
              "      display: none;\n",
              "      fill: #1967D2;\n",
              "      height: 32px;\n",
              "      padding: 0 0 0 0;\n",
              "      width: 32px;\n",
              "    }\n",
              "\n",
              "    .colab-df-convert:hover {\n",
              "      background-color: #E2EBFA;\n",
              "      box-shadow: 0px 1px 2px rgba(60, 64, 67, 0.3), 0px 1px 3px 1px rgba(60, 64, 67, 0.15);\n",
              "      fill: #174EA6;\n",
              "    }\n",
              "\n",
              "    [theme=dark] .colab-df-convert {\n",
              "      background-color: #3B4455;\n",
              "      fill: #D2E3FC;\n",
              "    }\n",
              "\n",
              "    [theme=dark] .colab-df-convert:hover {\n",
              "      background-color: #434B5C;\n",
              "      box-shadow: 0px 1px 3px 1px rgba(0, 0, 0, 0.15);\n",
              "      filter: drop-shadow(0px 1px 2px rgba(0, 0, 0, 0.3));\n",
              "      fill: #FFFFFF;\n",
              "    }\n",
              "  </style>\n",
              "\n",
              "      <script>\n",
              "        const buttonEl =\n",
              "          document.querySelector('#df-8a132d9f-7df6-43fd-acca-640e0638e6b3 button.colab-df-convert');\n",
              "        buttonEl.style.display =\n",
              "          google.colab.kernel.accessAllowed ? 'block' : 'none';\n",
              "\n",
              "        async function convertToInteractive(key) {\n",
              "          const element = document.querySelector('#df-8a132d9f-7df6-43fd-acca-640e0638e6b3');\n",
              "          const dataTable =\n",
              "            await google.colab.kernel.invokeFunction('convertToInteractive',\n",
              "                                                     [key], {});\n",
              "          if (!dataTable) return;\n",
              "\n",
              "          const docLinkHtml = 'Like what you see? Visit the ' +\n",
              "            '<a target=\"_blank\" href=https://colab.research.google.com/notebooks/data_table.ipynb>data table notebook</a>'\n",
              "            + ' to learn more about interactive tables.';\n",
              "          element.innerHTML = '';\n",
              "          dataTable['output_type'] = 'display_data';\n",
              "          await google.colab.output.renderOutput(dataTable, element);\n",
              "          const docLink = document.createElement('div');\n",
              "          docLink.innerHTML = docLinkHtml;\n",
              "          element.appendChild(docLink);\n",
              "        }\n",
              "      </script>\n",
              "    </div>\n",
              "  </div>\n",
              "  "
            ]
          },
          "metadata": {},
          "execution_count": 2
        }
      ],
      "source": [
        "# Import our dependencies\n",
        "from sklearn.model_selection import train_test_split\n",
        "from sklearn.preprocessing import StandardScaler\n",
        "import pandas as pd\n",
        "import tensorflow as tf\n",
        "\n",
        "#  Import and read the charity_data.csv.\n",
        "import pandas as pd \n",
        "application_df = pd.read_csv(data_url)\n",
        "application_df.head()"
      ]
    },
    {
      "cell_type": "code",
      "execution_count": 3,
      "metadata": {
        "id": "6gZILtiNzRTk"
      },
      "outputs": [],
      "source": [
        "# Drop the non-beneficial ID columns, 'EIN' and 'NAME'.\n",
        "application_df = application_df.drop(columns = ['EIN', 'NAME'])"
      ]
    },
    {
      "cell_type": "code",
      "execution_count": 4,
      "metadata": {
        "id": "ZXmd90kCzRTl",
        "outputId": "cbabfdd2-ca5d-421d-82b3-a2e90bd82cb7",
        "colab": {
          "base_uri": "https://localhost:8080/"
        }
      },
      "outputs": [
        {
          "output_type": "stream",
          "name": "stdout",
          "text": [
            "APPLICATION_TYPE 17\n",
            "AFFILIATION 6\n",
            "CLASSIFICATION 71\n",
            "USE_CASE 5\n",
            "ORGANIZATION 4\n",
            "STATUS 2\n",
            "INCOME_AMT 9\n",
            "SPECIAL_CONSIDERATIONS 2\n",
            "ASK_AMT 8747\n",
            "IS_SUCCESSFUL 2\n"
          ]
        }
      ],
      "source": [
        "# Determine the number of unique values in each column.\n",
        "for x in application_df.columns:\n",
        "    print(x, len(application_df[x].unique()))"
      ]
    },
    {
      "cell_type": "code",
      "execution_count": 5,
      "metadata": {
        "id": "9htdBR5_zRTl",
        "outputId": "258c90bc-32f1-49d4-892a-76745d409c50",
        "colab": {
          "base_uri": "https://localhost:8080/"
        }
      },
      "outputs": [
        {
          "output_type": "execute_result",
          "data": {
            "text/plain": [
              "T3     27037\n",
              "T4      1542\n",
              "T6      1216\n",
              "T5      1173\n",
              "T19     1065\n",
              "T8       737\n",
              "T7       725\n",
              "T10      528\n",
              "T9       156\n",
              "T13       66\n",
              "T12       27\n",
              "T2        16\n",
              "T25        3\n",
              "T14        3\n",
              "T29        2\n",
              "T15        2\n",
              "T17        1\n",
              "Name: APPLICATION_TYPE, dtype: int64"
            ]
          },
          "metadata": {},
          "execution_count": 5
        }
      ],
      "source": [
        "# Look at APPLICATION_TYPE value counts for binning\n",
        "counts = application_df['APPLICATION_TYPE'].value_counts()\n",
        "counts"
      ]
    },
    {
      "cell_type": "code",
      "source": [
        "# Choose a cutoff value and create a list of application types to be replaced\n",
        "# use the variable name `application_types_to_replace`\n",
        "application_types_to_replace = list(counts[counts<400].index)\n",
        "application_types_to_replace"
      ],
      "metadata": {
        "colab": {
          "base_uri": "https://localhost:8080/"
        },
        "id": "fDf__-A55WhO",
        "outputId": "21bd2356-8a8d-4a48-e363-ed437271b1f2"
      },
      "execution_count": 6,
      "outputs": [
        {
          "output_type": "execute_result",
          "data": {
            "text/plain": [
              "['T9', 'T13', 'T12', 'T2', 'T25', 'T14', 'T29', 'T15', 'T17']"
            ]
          },
          "metadata": {},
          "execution_count": 6
        }
      ]
    },
    {
      "cell_type": "code",
      "execution_count": 7,
      "metadata": {
        "id": "cWcofPr2zRTm",
        "outputId": "1ac2b202-d8da-49e8-da9a-9f887bfcf14a",
        "colab": {
          "base_uri": "https://localhost:8080/"
        }
      },
      "outputs": [
        {
          "output_type": "execute_result",
          "data": {
            "text/plain": [
              "T3       27037\n",
              "T4        1542\n",
              "T6        1216\n",
              "T5        1173\n",
              "T19       1065\n",
              "T8         737\n",
              "T7         725\n",
              "T10        528\n",
              "Other      276\n",
              "Name: APPLICATION_TYPE, dtype: int64"
            ]
          },
          "metadata": {},
          "execution_count": 7
        }
      ],
      "source": [
        "# Replace in dataframe\n",
        "for app in application_types_to_replace:\n",
        "    application_df['APPLICATION_TYPE'] = application_df['APPLICATION_TYPE'].replace(app,\"Other\")\n",
        "\n",
        "# Check to make sure binning was successful\n",
        "application_df['APPLICATION_TYPE'].value_counts()"
      ]
    },
    {
      "cell_type": "code",
      "source": [
        "# Look at CLASSIFICATION value counts for binning\n",
        "countsbinning = application_df['CLASSIFICATION'].value_counts()\n",
        "countsbinning "
      ],
      "metadata": {
        "colab": {
          "base_uri": "https://localhost:8080/"
        },
        "id": "vYj6mZAo6ZVR",
        "outputId": "89a808ad-076c-468a-f541-7d9cc473c26a"
      },
      "execution_count": 8,
      "outputs": [
        {
          "output_type": "execute_result",
          "data": {
            "text/plain": [
              "C1000    17326\n",
              "C2000     6074\n",
              "C1200     4837\n",
              "C3000     1918\n",
              "C2100     1883\n",
              "         ...  \n",
              "C4120        1\n",
              "C8210        1\n",
              "C2561        1\n",
              "C4500        1\n",
              "C2150        1\n",
              "Name: CLASSIFICATION, Length: 71, dtype: int64"
            ]
          },
          "metadata": {},
          "execution_count": 8
        }
      ]
    },
    {
      "cell_type": "code",
      "execution_count": 9,
      "metadata": {
        "id": "U_sBu8fAzRTn",
        "outputId": "d9ab26dc-da34-4fd1-ec51-eaf1a31005a0",
        "colab": {
          "base_uri": "https://localhost:8080/"
        }
      },
      "outputs": [
        {
          "output_type": "execute_result",
          "data": {
            "text/plain": [
              "C1000    17326\n",
              "C2000     6074\n",
              "C1200     4837\n",
              "C3000     1918\n",
              "C2100     1883\n",
              "C7000      777\n",
              "C1700      287\n",
              "C4000      194\n",
              "C5000      116\n",
              "C1270      114\n",
              "C2700      104\n",
              "C2800       95\n",
              "C7100       75\n",
              "C1300       58\n",
              "C1280       50\n",
              "C1230       36\n",
              "C1400       34\n",
              "C7200       32\n",
              "C2300       32\n",
              "C1240       30\n",
              "C8000       20\n",
              "C7120       18\n",
              "C1500       16\n",
              "C1800       15\n",
              "C6000       15\n",
              "C1250       14\n",
              "C8200       11\n",
              "C1238       10\n",
              "C1278       10\n",
              "C1235        9\n",
              "C1237        9\n",
              "C7210        7\n",
              "C2400        6\n",
              "C1720        6\n",
              "C4100        6\n",
              "C1257        5\n",
              "C1600        5\n",
              "C1260        3\n",
              "C2710        3\n",
              "C0           3\n",
              "C3200        2\n",
              "C1234        2\n",
              "C1246        2\n",
              "C1267        2\n",
              "C1256        2\n",
              "Name: CLASSIFICATION, dtype: int64"
            ]
          },
          "metadata": {},
          "execution_count": 9
        }
      ],
      "source": [
        "# You may find it helpful to look at CLASSIFICATION value counts >1\n",
        "countsclassification = countsbinning[countsbinning>1]\n",
        "countsclassification"
      ]
    },
    {
      "cell_type": "code",
      "source": [
        "# Choose a cutoff value and create a list of classifications to be replaced\n",
        "# use the variable name `classifications_to_replace`\n",
        "classifications_to_replace = list (countsbinning[countsbinning<120].index)\n",
        "classifications_to_replace"
      ],
      "metadata": {
        "colab": {
          "base_uri": "https://localhost:8080/"
        },
        "id": "Oxlvcj6d7tyO",
        "outputId": "cc6e0e52-4d9d-422d-becd-e939efea1479"
      },
      "execution_count": 10,
      "outputs": [
        {
          "output_type": "execute_result",
          "data": {
            "text/plain": [
              "['C5000',\n",
              " 'C1270',\n",
              " 'C2700',\n",
              " 'C2800',\n",
              " 'C7100',\n",
              " 'C1300',\n",
              " 'C1280',\n",
              " 'C1230',\n",
              " 'C1400',\n",
              " 'C7200',\n",
              " 'C2300',\n",
              " 'C1240',\n",
              " 'C8000',\n",
              " 'C7120',\n",
              " 'C1500',\n",
              " 'C1800',\n",
              " 'C6000',\n",
              " 'C1250',\n",
              " 'C8200',\n",
              " 'C1238',\n",
              " 'C1278',\n",
              " 'C1235',\n",
              " 'C1237',\n",
              " 'C7210',\n",
              " 'C2400',\n",
              " 'C1720',\n",
              " 'C4100',\n",
              " 'C1257',\n",
              " 'C1600',\n",
              " 'C1260',\n",
              " 'C2710',\n",
              " 'C0',\n",
              " 'C3200',\n",
              " 'C1234',\n",
              " 'C1246',\n",
              " 'C1267',\n",
              " 'C1256',\n",
              " 'C2190',\n",
              " 'C4200',\n",
              " 'C2600',\n",
              " 'C5200',\n",
              " 'C1370',\n",
              " 'C1248',\n",
              " 'C6100',\n",
              " 'C1820',\n",
              " 'C1900',\n",
              " 'C1236',\n",
              " 'C3700',\n",
              " 'C2570',\n",
              " 'C1580',\n",
              " 'C1245',\n",
              " 'C2500',\n",
              " 'C1570',\n",
              " 'C1283',\n",
              " 'C2380',\n",
              " 'C1732',\n",
              " 'C1728',\n",
              " 'C2170',\n",
              " 'C4120',\n",
              " 'C8210',\n",
              " 'C2561',\n",
              " 'C4500',\n",
              " 'C2150']"
            ]
          },
          "metadata": {},
          "execution_count": 10
        }
      ]
    },
    {
      "cell_type": "code",
      "execution_count": 11,
      "metadata": {
        "id": "b9YnXfchzRTp",
        "outputId": "e843d40a-3d52-49b6-9293-75b5cc83ffe8",
        "colab": {
          "base_uri": "https://localhost:8080/"
        }
      },
      "outputs": [
        {
          "output_type": "execute_result",
          "data": {
            "text/plain": [
              "C1000    17326\n",
              "C2000     6074\n",
              "C1200     4837\n",
              "C3000     1918\n",
              "C2100     1883\n",
              "Other     1003\n",
              "C7000      777\n",
              "C1700      287\n",
              "C4000      194\n",
              "Name: CLASSIFICATION, dtype: int64"
            ]
          },
          "metadata": {},
          "execution_count": 11
        }
      ],
      "source": [
        "# Replace in dataframe\n",
        "for cls in classifications_to_replace:\n",
        "    application_df['CLASSIFICATION'] = application_df['CLASSIFICATION'].replace(cls,\"Other\")\n",
        "\n",
        "# Check to make sure binning was successful\n",
        "application_df['CLASSIFICATION'].value_counts()"
      ]
    },
    {
      "cell_type": "code",
      "execution_count": 12,
      "metadata": {
        "id": "GBeRz2muzRTp",
        "colab": {
          "base_uri": "https://localhost:8080/",
          "height": 317
        },
        "outputId": "9f4116d3-7ab1-495d-e839-093e9ace5e00"
      },
      "outputs": [
        {
          "output_type": "execute_result",
          "data": {
            "text/plain": [
              "   STATUS  ASK_AMT  IS_SUCCESSFUL  APPLICATION_TYPE_Other  \\\n",
              "0       1     5000              1                     0.0   \n",
              "1       1   108590              1                     0.0   \n",
              "2       1     5000              0                     0.0   \n",
              "3       1     6692              1                     0.0   \n",
              "4       1   142590              1                     0.0   \n",
              "\n",
              "   APPLICATION_TYPE_T10  APPLICATION_TYPE_T19  APPLICATION_TYPE_T3  \\\n",
              "0                   1.0                   0.0                  0.0   \n",
              "1                   0.0                   0.0                  1.0   \n",
              "2                   0.0                   0.0                  0.0   \n",
              "3                   0.0                   0.0                  1.0   \n",
              "4                   0.0                   0.0                  1.0   \n",
              "\n",
              "   APPLICATION_TYPE_T4  APPLICATION_TYPE_T5  APPLICATION_TYPE_T6  ...  \\\n",
              "0                  0.0                  0.0                  0.0  ...   \n",
              "1                  0.0                  0.0                  0.0  ...   \n",
              "2                  0.0                  1.0                  0.0  ...   \n",
              "3                  0.0                  0.0                  0.0  ...   \n",
              "4                  0.0                  0.0                  0.0  ...   \n",
              "\n",
              "   INCOME_AMT_1-9999  INCOME_AMT_10000-24999  INCOME_AMT_100000-499999  \\\n",
              "0                0.0                     0.0                       0.0   \n",
              "1                1.0                     0.0                       0.0   \n",
              "2                0.0                     0.0                       0.0   \n",
              "3                0.0                     1.0                       0.0   \n",
              "4                0.0                     0.0                       1.0   \n",
              "\n",
              "   INCOME_AMT_10M-50M  INCOME_AMT_1M-5M  INCOME_AMT_25000-99999  \\\n",
              "0                 0.0               0.0                     0.0   \n",
              "1                 0.0               0.0                     0.0   \n",
              "2                 0.0               0.0                     0.0   \n",
              "3                 0.0               0.0                     0.0   \n",
              "4                 0.0               0.0                     0.0   \n",
              "\n",
              "   INCOME_AMT_50M+  INCOME_AMT_5M-10M  SPECIAL_CONSIDERATIONS_N  \\\n",
              "0              0.0                0.0                       1.0   \n",
              "1              0.0                0.0                       1.0   \n",
              "2              0.0                0.0                       1.0   \n",
              "3              0.0                0.0                       1.0   \n",
              "4              0.0                0.0                       1.0   \n",
              "\n",
              "   SPECIAL_CONSIDERATIONS_Y  \n",
              "0                       0.0  \n",
              "1                       0.0  \n",
              "2                       0.0  \n",
              "3                       0.0  \n",
              "4                       0.0  \n",
              "\n",
              "[5 rows x 47 columns]"
            ],
            "text/html": [
              "\n",
              "  <div id=\"df-b14f3ffc-42b3-4680-961b-f4b4ba1650cd\">\n",
              "    <div class=\"colab-df-container\">\n",
              "      <div>\n",
              "<style scoped>\n",
              "    .dataframe tbody tr th:only-of-type {\n",
              "        vertical-align: middle;\n",
              "    }\n",
              "\n",
              "    .dataframe tbody tr th {\n",
              "        vertical-align: top;\n",
              "    }\n",
              "\n",
              "    .dataframe thead th {\n",
              "        text-align: right;\n",
              "    }\n",
              "</style>\n",
              "<table border=\"1\" class=\"dataframe\">\n",
              "  <thead>\n",
              "    <tr style=\"text-align: right;\">\n",
              "      <th></th>\n",
              "      <th>STATUS</th>\n",
              "      <th>ASK_AMT</th>\n",
              "      <th>IS_SUCCESSFUL</th>\n",
              "      <th>APPLICATION_TYPE_Other</th>\n",
              "      <th>APPLICATION_TYPE_T10</th>\n",
              "      <th>APPLICATION_TYPE_T19</th>\n",
              "      <th>APPLICATION_TYPE_T3</th>\n",
              "      <th>APPLICATION_TYPE_T4</th>\n",
              "      <th>APPLICATION_TYPE_T5</th>\n",
              "      <th>APPLICATION_TYPE_T6</th>\n",
              "      <th>...</th>\n",
              "      <th>INCOME_AMT_1-9999</th>\n",
              "      <th>INCOME_AMT_10000-24999</th>\n",
              "      <th>INCOME_AMT_100000-499999</th>\n",
              "      <th>INCOME_AMT_10M-50M</th>\n",
              "      <th>INCOME_AMT_1M-5M</th>\n",
              "      <th>INCOME_AMT_25000-99999</th>\n",
              "      <th>INCOME_AMT_50M+</th>\n",
              "      <th>INCOME_AMT_5M-10M</th>\n",
              "      <th>SPECIAL_CONSIDERATIONS_N</th>\n",
              "      <th>SPECIAL_CONSIDERATIONS_Y</th>\n",
              "    </tr>\n",
              "  </thead>\n",
              "  <tbody>\n",
              "    <tr>\n",
              "      <th>0</th>\n",
              "      <td>1</td>\n",
              "      <td>5000</td>\n",
              "      <td>1</td>\n",
              "      <td>0.0</td>\n",
              "      <td>1.0</td>\n",
              "      <td>0.0</td>\n",
              "      <td>0.0</td>\n",
              "      <td>0.0</td>\n",
              "      <td>0.0</td>\n",
              "      <td>0.0</td>\n",
              "      <td>...</td>\n",
              "      <td>0.0</td>\n",
              "      <td>0.0</td>\n",
              "      <td>0.0</td>\n",
              "      <td>0.0</td>\n",
              "      <td>0.0</td>\n",
              "      <td>0.0</td>\n",
              "      <td>0.0</td>\n",
              "      <td>0.0</td>\n",
              "      <td>1.0</td>\n",
              "      <td>0.0</td>\n",
              "    </tr>\n",
              "    <tr>\n",
              "      <th>1</th>\n",
              "      <td>1</td>\n",
              "      <td>108590</td>\n",
              "      <td>1</td>\n",
              "      <td>0.0</td>\n",
              "      <td>0.0</td>\n",
              "      <td>0.0</td>\n",
              "      <td>1.0</td>\n",
              "      <td>0.0</td>\n",
              "      <td>0.0</td>\n",
              "      <td>0.0</td>\n",
              "      <td>...</td>\n",
              "      <td>1.0</td>\n",
              "      <td>0.0</td>\n",
              "      <td>0.0</td>\n",
              "      <td>0.0</td>\n",
              "      <td>0.0</td>\n",
              "      <td>0.0</td>\n",
              "      <td>0.0</td>\n",
              "      <td>0.0</td>\n",
              "      <td>1.0</td>\n",
              "      <td>0.0</td>\n",
              "    </tr>\n",
              "    <tr>\n",
              "      <th>2</th>\n",
              "      <td>1</td>\n",
              "      <td>5000</td>\n",
              "      <td>0</td>\n",
              "      <td>0.0</td>\n",
              "      <td>0.0</td>\n",
              "      <td>0.0</td>\n",
              "      <td>0.0</td>\n",
              "      <td>0.0</td>\n",
              "      <td>1.0</td>\n",
              "      <td>0.0</td>\n",
              "      <td>...</td>\n",
              "      <td>0.0</td>\n",
              "      <td>0.0</td>\n",
              "      <td>0.0</td>\n",
              "      <td>0.0</td>\n",
              "      <td>0.0</td>\n",
              "      <td>0.0</td>\n",
              "      <td>0.0</td>\n",
              "      <td>0.0</td>\n",
              "      <td>1.0</td>\n",
              "      <td>0.0</td>\n",
              "    </tr>\n",
              "    <tr>\n",
              "      <th>3</th>\n",
              "      <td>1</td>\n",
              "      <td>6692</td>\n",
              "      <td>1</td>\n",
              "      <td>0.0</td>\n",
              "      <td>0.0</td>\n",
              "      <td>0.0</td>\n",
              "      <td>1.0</td>\n",
              "      <td>0.0</td>\n",
              "      <td>0.0</td>\n",
              "      <td>0.0</td>\n",
              "      <td>...</td>\n",
              "      <td>0.0</td>\n",
              "      <td>1.0</td>\n",
              "      <td>0.0</td>\n",
              "      <td>0.0</td>\n",
              "      <td>0.0</td>\n",
              "      <td>0.0</td>\n",
              "      <td>0.0</td>\n",
              "      <td>0.0</td>\n",
              "      <td>1.0</td>\n",
              "      <td>0.0</td>\n",
              "    </tr>\n",
              "    <tr>\n",
              "      <th>4</th>\n",
              "      <td>1</td>\n",
              "      <td>142590</td>\n",
              "      <td>1</td>\n",
              "      <td>0.0</td>\n",
              "      <td>0.0</td>\n",
              "      <td>0.0</td>\n",
              "      <td>1.0</td>\n",
              "      <td>0.0</td>\n",
              "      <td>0.0</td>\n",
              "      <td>0.0</td>\n",
              "      <td>...</td>\n",
              "      <td>0.0</td>\n",
              "      <td>0.0</td>\n",
              "      <td>1.0</td>\n",
              "      <td>0.0</td>\n",
              "      <td>0.0</td>\n",
              "      <td>0.0</td>\n",
              "      <td>0.0</td>\n",
              "      <td>0.0</td>\n",
              "      <td>1.0</td>\n",
              "      <td>0.0</td>\n",
              "    </tr>\n",
              "  </tbody>\n",
              "</table>\n",
              "<p>5 rows × 47 columns</p>\n",
              "</div>\n",
              "      <button class=\"colab-df-convert\" onclick=\"convertToInteractive('df-b14f3ffc-42b3-4680-961b-f4b4ba1650cd')\"\n",
              "              title=\"Convert this dataframe to an interactive table.\"\n",
              "              style=\"display:none;\">\n",
              "        \n",
              "  <svg xmlns=\"http://www.w3.org/2000/svg\" height=\"24px\"viewBox=\"0 0 24 24\"\n",
              "       width=\"24px\">\n",
              "    <path d=\"M0 0h24v24H0V0z\" fill=\"none\"/>\n",
              "    <path d=\"M18.56 5.44l.94 2.06.94-2.06 2.06-.94-2.06-.94-.94-2.06-.94 2.06-2.06.94zm-11 1L8.5 8.5l.94-2.06 2.06-.94-2.06-.94L8.5 2.5l-.94 2.06-2.06.94zm10 10l.94 2.06.94-2.06 2.06-.94-2.06-.94-.94-2.06-.94 2.06-2.06.94z\"/><path d=\"M17.41 7.96l-1.37-1.37c-.4-.4-.92-.59-1.43-.59-.52 0-1.04.2-1.43.59L10.3 9.45l-7.72 7.72c-.78.78-.78 2.05 0 2.83L4 21.41c.39.39.9.59 1.41.59.51 0 1.02-.2 1.41-.59l7.78-7.78 2.81-2.81c.8-.78.8-2.07 0-2.86zM5.41 20L4 18.59l7.72-7.72 1.47 1.35L5.41 20z\"/>\n",
              "  </svg>\n",
              "      </button>\n",
              "      \n",
              "  <style>\n",
              "    .colab-df-container {\n",
              "      display:flex;\n",
              "      flex-wrap:wrap;\n",
              "      gap: 12px;\n",
              "    }\n",
              "\n",
              "    .colab-df-convert {\n",
              "      background-color: #E8F0FE;\n",
              "      border: none;\n",
              "      border-radius: 50%;\n",
              "      cursor: pointer;\n",
              "      display: none;\n",
              "      fill: #1967D2;\n",
              "      height: 32px;\n",
              "      padding: 0 0 0 0;\n",
              "      width: 32px;\n",
              "    }\n",
              "\n",
              "    .colab-df-convert:hover {\n",
              "      background-color: #E2EBFA;\n",
              "      box-shadow: 0px 1px 2px rgba(60, 64, 67, 0.3), 0px 1px 3px 1px rgba(60, 64, 67, 0.15);\n",
              "      fill: #174EA6;\n",
              "    }\n",
              "\n",
              "    [theme=dark] .colab-df-convert {\n",
              "      background-color: #3B4455;\n",
              "      fill: #D2E3FC;\n",
              "    }\n",
              "\n",
              "    [theme=dark] .colab-df-convert:hover {\n",
              "      background-color: #434B5C;\n",
              "      box-shadow: 0px 1px 3px 1px rgba(0, 0, 0, 0.15);\n",
              "      filter: drop-shadow(0px 1px 2px rgba(0, 0, 0, 0.3));\n",
              "      fill: #FFFFFF;\n",
              "    }\n",
              "  </style>\n",
              "\n",
              "      <script>\n",
              "        const buttonEl =\n",
              "          document.querySelector('#df-b14f3ffc-42b3-4680-961b-f4b4ba1650cd button.colab-df-convert');\n",
              "        buttonEl.style.display =\n",
              "          google.colab.kernel.accessAllowed ? 'block' : 'none';\n",
              "\n",
              "        async function convertToInteractive(key) {\n",
              "          const element = document.querySelector('#df-b14f3ffc-42b3-4680-961b-f4b4ba1650cd');\n",
              "          const dataTable =\n",
              "            await google.colab.kernel.invokeFunction('convertToInteractive',\n",
              "                                                     [key], {});\n",
              "          if (!dataTable) return;\n",
              "\n",
              "          const docLinkHtml = 'Like what you see? Visit the ' +\n",
              "            '<a target=\"_blank\" href=https://colab.research.google.com/notebooks/data_table.ipynb>data table notebook</a>'\n",
              "            + ' to learn more about interactive tables.';\n",
              "          element.innerHTML = '';\n",
              "          dataTable['output_type'] = 'display_data';\n",
              "          await google.colab.output.renderOutput(dataTable, element);\n",
              "          const docLink = document.createElement('div');\n",
              "          docLink.innerHTML = docLinkHtml;\n",
              "          element.appendChild(docLink);\n",
              "        }\n",
              "      </script>\n",
              "    </div>\n",
              "  </div>\n",
              "  "
            ]
          },
          "metadata": {},
          "execution_count": 12
        }
      ],
      "source": [
        "# Convert categorical data to numeric with `pd.get_dummies`\n",
        "application_df = pd.get_dummies(application_df,dtype=float)\n",
        "application_df.head()"
      ]
    },
    {
      "cell_type": "code",
      "execution_count": 30,
      "metadata": {
        "id": "7HgHE3SozRTq",
        "colab": {
          "base_uri": "https://localhost:8080/"
        },
        "outputId": "251dc10a-db96-4636-a425-99775b55ec85"
      },
      "outputs": [
        {
          "output_type": "stream",
          "name": "stdout",
          "text": [
            "Splited data Target _y_ values [1 1 0 ... 0 1 0]\n",
            "Splited data Features _x_ values [[1.0000000e+00 5.0000000e+03 0.0000000e+00 ... 0.0000000e+00\n",
            "  1.0000000e+00 0.0000000e+00]\n",
            " [1.0000000e+00 1.0859000e+05 0.0000000e+00 ... 0.0000000e+00\n",
            "  1.0000000e+00 0.0000000e+00]\n",
            " [1.0000000e+00 5.0000000e+03 0.0000000e+00 ... 0.0000000e+00\n",
            "  1.0000000e+00 0.0000000e+00]\n",
            " ...\n",
            " [1.0000000e+00 5.0000000e+03 0.0000000e+00 ... 0.0000000e+00\n",
            "  1.0000000e+00 0.0000000e+00]\n",
            " [1.0000000e+00 5.0000000e+03 0.0000000e+00 ... 0.0000000e+00\n",
            "  1.0000000e+00 0.0000000e+00]\n",
            " [1.0000000e+00 3.6500179e+07 0.0000000e+00 ... 0.0000000e+00\n",
            "  1.0000000e+00 0.0000000e+00]]\n"
          ]
        }
      ],
      "source": [
        "# Split our preprocessed data into our features and target arrays\n",
        "y = application_df['IS_SUCCESSFUL'].values\n",
        "X = application_df.drop('IS_SUCCESSFUL', axis=1).values\n",
        "print(f'Splited data Target _y_ values {y}')\n",
        "print(f'Splited data Features _x_ values {X}')\n",
        "\n",
        "# Split the preprocessed data into a training and testing dataset\n",
        "X_train, X_test, y_train, y_test = train_test_split(X,y,random_state = 42)"
      ]
    },
    {
      "cell_type": "code",
      "execution_count": 31,
      "metadata": {
        "id": "hE44AUGSzRTq"
      },
      "outputs": [],
      "source": [
        "# Create a StandardScaler instances\n",
        "scaler = StandardScaler()\n",
        "\n",
        "# Fit the StandardScaler\n",
        "X_scaler = scaler.fit(X_train)\n",
        "\n",
        "# Scale the data\n",
        "X_train_scaled = X_scaler.transform(X_train)\n",
        "X_test_scaled = X_scaler.transform(X_test)"
      ]
    },
    {
      "cell_type": "markdown",
      "metadata": {
        "id": "5g28GGTrzRTr"
      },
      "source": [
        "## Compile, Train and Evaluate the Model"
      ]
    },
    {
      "cell_type": "code",
      "execution_count": 32,
      "metadata": {
        "id": "7eOOo1Z_zRTr",
        "outputId": "8d158966-ccc1-48e7-a066-82a85f5c8803",
        "colab": {
          "base_uri": "https://localhost:8080/"
        }
      },
      "outputs": [
        {
          "output_type": "stream",
          "name": "stdout",
          "text": [
            "Model: \"sequential_2\"\n",
            "_________________________________________________________________\n",
            " Layer (type)                Output Shape              Param #   \n",
            "=================================================================\n",
            " dense_6 (Dense)             (None, 10)                470       \n",
            "                                                                 \n",
            " dense_7 (Dense)             (None, 10)                110       \n",
            "                                                                 \n",
            " dense_8 (Dense)             (None, 1)                 11        \n",
            "                                                                 \n",
            "=================================================================\n",
            "Total params: 591\n",
            "Trainable params: 591\n",
            "Non-trainable params: 0\n",
            "_________________________________________________________________\n"
          ]
        }
      ],
      "source": [
        "# Define the model - deep neural net, i.e., the number of input features and hidden nodes for each layer.\n",
        "number_input_features = len( X_train_scaled[0])\n",
        "hidden_nodes_layer1=10\n",
        "hidden_nodes_layer2=10\n",
        "nn = tf.keras.models.Sequential()\n",
        "\n",
        "# First hidden layer\n",
        "nn.add(tf.keras.layers.Dense(units=hidden_nodes_layer1, input_dim=number_input_features, activation='relu'))\n",
        "# Second hidden layer\n",
        "nn.add(tf.keras.layers.Dense(units=hidden_nodes_layer2, activation='relu'))\n",
        "# Output layer\n",
        "nn.add(tf.keras.layers.Dense(units=1, activation='sigmoid'))\n",
        "# Check the structure of the model\n",
        "nn.summary()"
      ]
    },
    {
      "cell_type": "code",
      "execution_count": 50,
      "metadata": {
        "id": "5n8J5hTPzRTs"
      },
      "outputs": [],
      "source": [
        "# Compile the model\n",
        "nn.compile(loss = 'binary_crossentropy', optimizer = 'adam', metrics=['accuracy'])"
      ]
    },
    {
      "cell_type": "code",
      "source": [
        "# Callback to save weights\n",
        "from keras.callbacks import Callback\n",
        "callback = tf.keras.callbacks.ModelCheckpoint(filepath=\"/content/Alphabet_Soup_Deep_Learning/checkpoints/First_Model/original.{epoch}.hdf5\", verbose=1, save_weights_only=True, save_freq=\"epoch\", period=5, monitor='accuracy')"
      ],
      "metadata": {
        "colab": {
          "base_uri": "https://localhost:8080/"
        },
        "id": "w5_MHmnSXyUz",
        "outputId": "66893002-3310-4eaf-9cba-5d76174275b2"
      },
      "execution_count": 55,
      "outputs": [
        {
          "output_type": "stream",
          "name": "stdout",
          "text": [
            "WARNING:tensorflow:`period` argument is deprecated. Please use `save_freq` to specify the frequency in number of batches seen.\n"
          ]
        }
      ]
    },
    {
      "cell_type": "code",
      "execution_count": 56,
      "metadata": {
        "id": "D9DAZu--zRTs",
        "outputId": "3a4bc24b-dc37-4613-8a7c-8818c7c32361",
        "colab": {
          "base_uri": "https://localhost:8080/"
        }
      },
      "outputs": [
        {
          "output_type": "stream",
          "name": "stdout",
          "text": [
            "Epoch 1/150\n",
            "684/684 [==============================] - 1s 2ms/step - loss: 0.5402 - accuracy: 0.7351 - val_loss: 0.5426 - val_accuracy: 0.7339\n",
            "Epoch 2/150\n",
            "684/684 [==============================] - 1s 2ms/step - loss: 0.5403 - accuracy: 0.7347 - val_loss: 0.5438 - val_accuracy: 0.7378\n",
            "Epoch 3/150\n",
            "684/684 [==============================] - 1s 2ms/step - loss: 0.5400 - accuracy: 0.7347 - val_loss: 0.5425 - val_accuracy: 0.7354\n",
            "Epoch 4/150\n",
            "684/684 [==============================] - 1s 2ms/step - loss: 0.5403 - accuracy: 0.7340 - val_loss: 0.5430 - val_accuracy: 0.7365\n",
            "Epoch 5/150\n",
            "683/684 [============================>.] - ETA: 0s - loss: 0.5401 - accuracy: 0.7346\n",
            "Epoch 5: saving model to /content/Alphabet_Soup_Deep_Learning/checkpoints/First_Model/original.5.hdf5\n",
            "684/684 [==============================] - 1s 2ms/step - loss: 0.5401 - accuracy: 0.7347 - val_loss: 0.5439 - val_accuracy: 0.7375\n",
            "Epoch 6/150\n",
            "684/684 [==============================] - 1s 2ms/step - loss: 0.5403 - accuracy: 0.7344 - val_loss: 0.5424 - val_accuracy: 0.7365\n",
            "Epoch 7/150\n",
            "684/684 [==============================] - 1s 2ms/step - loss: 0.5399 - accuracy: 0.7348 - val_loss: 0.5437 - val_accuracy: 0.7372\n",
            "Epoch 8/150\n",
            "684/684 [==============================] - 1s 2ms/step - loss: 0.5398 - accuracy: 0.7351 - val_loss: 0.5428 - val_accuracy: 0.7354\n",
            "Epoch 9/150\n",
            "684/684 [==============================] - 1s 2ms/step - loss: 0.5399 - accuracy: 0.7353 - val_loss: 0.5433 - val_accuracy: 0.7354\n",
            "Epoch 10/150\n",
            "681/684 [============================>.] - ETA: 0s - loss: 0.5403 - accuracy: 0.7332\n",
            "Epoch 10: saving model to /content/Alphabet_Soup_Deep_Learning/checkpoints/First_Model/original.10.hdf5\n",
            "684/684 [==============================] - 1s 2ms/step - loss: 0.5402 - accuracy: 0.7334 - val_loss: 0.5442 - val_accuracy: 0.7357\n",
            "Epoch 11/150\n",
            "684/684 [==============================] - 1s 2ms/step - loss: 0.5399 - accuracy: 0.7354 - val_loss: 0.5433 - val_accuracy: 0.7378\n",
            "Epoch 12/150\n",
            "684/684 [==============================] - 1s 2ms/step - loss: 0.5401 - accuracy: 0.7347 - val_loss: 0.5431 - val_accuracy: 0.7365\n",
            "Epoch 13/150\n",
            "684/684 [==============================] - 1s 2ms/step - loss: 0.5399 - accuracy: 0.7344 - val_loss: 0.5435 - val_accuracy: 0.7359\n",
            "Epoch 14/150\n",
            "684/684 [==============================] - 1s 2ms/step - loss: 0.5399 - accuracy: 0.7344 - val_loss: 0.5437 - val_accuracy: 0.7354\n",
            "Epoch 15/150\n",
            "672/684 [============================>.] - ETA: 0s - loss: 0.5405 - accuracy: 0.7352\n",
            "Epoch 15: saving model to /content/Alphabet_Soup_Deep_Learning/checkpoints/First_Model/original.15.hdf5\n",
            "684/684 [==============================] - 1s 2ms/step - loss: 0.5399 - accuracy: 0.7359 - val_loss: 0.5441 - val_accuracy: 0.7367\n",
            "Epoch 16/150\n",
            "684/684 [==============================] - 2s 2ms/step - loss: 0.5399 - accuracy: 0.7355 - val_loss: 0.5427 - val_accuracy: 0.7359\n",
            "Epoch 17/150\n",
            "684/684 [==============================] - 1s 2ms/step - loss: 0.5396 - accuracy: 0.7339 - val_loss: 0.5437 - val_accuracy: 0.7380\n",
            "Epoch 18/150\n",
            "684/684 [==============================] - 1s 2ms/step - loss: 0.5397 - accuracy: 0.7359 - val_loss: 0.5429 - val_accuracy: 0.7367\n",
            "Epoch 19/150\n",
            "684/684 [==============================] - 1s 2ms/step - loss: 0.5399 - accuracy: 0.7354 - val_loss: 0.5444 - val_accuracy: 0.7380\n",
            "Epoch 20/150\n",
            "673/684 [============================>.] - ETA: 0s - loss: 0.5394 - accuracy: 0.7360\n",
            "Epoch 20: saving model to /content/Alphabet_Soup_Deep_Learning/checkpoints/First_Model/original.20.hdf5\n",
            "684/684 [==============================] - 1s 2ms/step - loss: 0.5399 - accuracy: 0.7353 - val_loss: 0.5442 - val_accuracy: 0.7375\n",
            "Epoch 21/150\n",
            "684/684 [==============================] - 1s 2ms/step - loss: 0.5395 - accuracy: 0.7351 - val_loss: 0.5423 - val_accuracy: 0.7370\n",
            "Epoch 22/150\n",
            "684/684 [==============================] - 1s 2ms/step - loss: 0.5397 - accuracy: 0.7354 - val_loss: 0.5434 - val_accuracy: 0.7344\n",
            "Epoch 23/150\n",
            "684/684 [==============================] - 1s 2ms/step - loss: 0.5397 - accuracy: 0.7346 - val_loss: 0.5458 - val_accuracy: 0.7372\n",
            "Epoch 24/150\n",
            "684/684 [==============================] - 1s 2ms/step - loss: 0.5398 - accuracy: 0.7354 - val_loss: 0.5436 - val_accuracy: 0.7370\n",
            "Epoch 25/150\n",
            "671/684 [============================>.] - ETA: 0s - loss: 0.5405 - accuracy: 0.7342\n",
            "Epoch 25: saving model to /content/Alphabet_Soup_Deep_Learning/checkpoints/First_Model/original.25.hdf5\n",
            "684/684 [==============================] - 1s 2ms/step - loss: 0.5398 - accuracy: 0.7345 - val_loss: 0.5435 - val_accuracy: 0.7365\n",
            "Epoch 26/150\n",
            "684/684 [==============================] - 1s 2ms/step - loss: 0.5394 - accuracy: 0.7351 - val_loss: 0.5452 - val_accuracy: 0.7359\n",
            "Epoch 27/150\n",
            "684/684 [==============================] - 1s 2ms/step - loss: 0.5394 - accuracy: 0.7356 - val_loss: 0.5445 - val_accuracy: 0.7352\n",
            "Epoch 28/150\n",
            "684/684 [==============================] - 1s 2ms/step - loss: 0.5397 - accuracy: 0.7358 - val_loss: 0.5433 - val_accuracy: 0.7349\n",
            "Epoch 29/150\n",
            "684/684 [==============================] - 1s 2ms/step - loss: 0.5396 - accuracy: 0.7356 - val_loss: 0.5422 - val_accuracy: 0.7365\n",
            "Epoch 30/150\n",
            "663/684 [============================>.] - ETA: 0s - loss: 0.5404 - accuracy: 0.7348\n",
            "Epoch 30: saving model to /content/Alphabet_Soup_Deep_Learning/checkpoints/First_Model/original.30.hdf5\n",
            "684/684 [==============================] - 1s 2ms/step - loss: 0.5398 - accuracy: 0.7354 - val_loss: 0.5449 - val_accuracy: 0.7349\n",
            "Epoch 31/150\n",
            "684/684 [==============================] - 1s 2ms/step - loss: 0.5394 - accuracy: 0.7361 - val_loss: 0.5425 - val_accuracy: 0.7362\n",
            "Epoch 32/150\n",
            "684/684 [==============================] - 1s 2ms/step - loss: 0.5395 - accuracy: 0.7362 - val_loss: 0.5429 - val_accuracy: 0.7357\n",
            "Epoch 33/150\n",
            "684/684 [==============================] - 1s 2ms/step - loss: 0.5394 - accuracy: 0.7347 - val_loss: 0.5432 - val_accuracy: 0.7359\n",
            "Epoch 34/150\n",
            "684/684 [==============================] - 1s 2ms/step - loss: 0.5394 - accuracy: 0.7347 - val_loss: 0.5443 - val_accuracy: 0.7375\n",
            "Epoch 35/150\n",
            "668/684 [============================>.] - ETA: 0s - loss: 0.5398 - accuracy: 0.7348\n",
            "Epoch 35: saving model to /content/Alphabet_Soup_Deep_Learning/checkpoints/First_Model/original.35.hdf5\n",
            "684/684 [==============================] - 1s 2ms/step - loss: 0.5395 - accuracy: 0.7352 - val_loss: 0.5434 - val_accuracy: 0.7367\n",
            "Epoch 36/150\n",
            "684/684 [==============================] - 1s 2ms/step - loss: 0.5397 - accuracy: 0.7350 - val_loss: 0.5435 - val_accuracy: 0.7362\n",
            "Epoch 37/150\n",
            "684/684 [==============================] - 1s 2ms/step - loss: 0.5395 - accuracy: 0.7348 - val_loss: 0.5426 - val_accuracy: 0.7391\n",
            "Epoch 38/150\n",
            "684/684 [==============================] - 1s 2ms/step - loss: 0.5396 - accuracy: 0.7352 - val_loss: 0.5422 - val_accuracy: 0.7367\n",
            "Epoch 39/150\n",
            "684/684 [==============================] - 2s 2ms/step - loss: 0.5394 - accuracy: 0.7354 - val_loss: 0.5441 - val_accuracy: 0.7378\n",
            "Epoch 40/150\n",
            "662/684 [============================>.] - ETA: 0s - loss: 0.5398 - accuracy: 0.7342\n",
            "Epoch 40: saving model to /content/Alphabet_Soup_Deep_Learning/checkpoints/First_Model/original.40.hdf5\n",
            "684/684 [==============================] - 1s 2ms/step - loss: 0.5393 - accuracy: 0.7346 - val_loss: 0.5443 - val_accuracy: 0.7352\n",
            "Epoch 41/150\n",
            "684/684 [==============================] - 1s 2ms/step - loss: 0.5390 - accuracy: 0.7358 - val_loss: 0.5451 - val_accuracy: 0.7315\n",
            "Epoch 42/150\n",
            "684/684 [==============================] - 1s 2ms/step - loss: 0.5395 - accuracy: 0.7354 - val_loss: 0.5439 - val_accuracy: 0.7378\n",
            "Epoch 43/150\n",
            "684/684 [==============================] - 1s 2ms/step - loss: 0.5395 - accuracy: 0.7344 - val_loss: 0.5446 - val_accuracy: 0.7352\n",
            "Epoch 44/150\n",
            "684/684 [==============================] - 1s 2ms/step - loss: 0.5391 - accuracy: 0.7344 - val_loss: 0.5435 - val_accuracy: 0.7328\n",
            "Epoch 45/150\n",
            "673/684 [============================>.] - ETA: 0s - loss: 0.5398 - accuracy: 0.7353\n",
            "Epoch 45: saving model to /content/Alphabet_Soup_Deep_Learning/checkpoints/First_Model/original.45.hdf5\n",
            "684/684 [==============================] - 1s 2ms/step - loss: 0.5396 - accuracy: 0.7355 - val_loss: 0.5433 - val_accuracy: 0.7370\n",
            "Epoch 46/150\n",
            "684/684 [==============================] - 1s 2ms/step - loss: 0.5392 - accuracy: 0.7343 - val_loss: 0.5441 - val_accuracy: 0.7370\n",
            "Epoch 47/150\n",
            "684/684 [==============================] - 1s 2ms/step - loss: 0.5394 - accuracy: 0.7367 - val_loss: 0.5444 - val_accuracy: 0.7354\n",
            "Epoch 48/150\n",
            "684/684 [==============================] - 1s 2ms/step - loss: 0.5391 - accuracy: 0.7364 - val_loss: 0.5444 - val_accuracy: 0.7375\n",
            "Epoch 49/150\n",
            "684/684 [==============================] - 1s 2ms/step - loss: 0.5391 - accuracy: 0.7352 - val_loss: 0.5431 - val_accuracy: 0.7359\n",
            "Epoch 50/150\n",
            "672/684 [============================>.] - ETA: 0s - loss: 0.5394 - accuracy: 0.7351\n",
            "Epoch 50: saving model to /content/Alphabet_Soup_Deep_Learning/checkpoints/First_Model/original.50.hdf5\n",
            "684/684 [==============================] - 1s 2ms/step - loss: 0.5392 - accuracy: 0.7352 - val_loss: 0.5451 - val_accuracy: 0.7367\n",
            "Epoch 51/150\n",
            "684/684 [==============================] - 1s 2ms/step - loss: 0.5395 - accuracy: 0.7363 - val_loss: 0.5445 - val_accuracy: 0.7352\n",
            "Epoch 52/150\n",
            "684/684 [==============================] - 2s 2ms/step - loss: 0.5393 - accuracy: 0.7364 - val_loss: 0.5455 - val_accuracy: 0.7359\n",
            "Epoch 53/150\n",
            "684/684 [==============================] - 1s 2ms/step - loss: 0.5394 - accuracy: 0.7350 - val_loss: 0.5439 - val_accuracy: 0.7362\n",
            "Epoch 54/150\n",
            "684/684 [==============================] - 1s 2ms/step - loss: 0.5393 - accuracy: 0.7369 - val_loss: 0.5442 - val_accuracy: 0.7334\n",
            "Epoch 55/150\n",
            "672/684 [============================>.] - ETA: 0s - loss: 0.5390 - accuracy: 0.7351\n",
            "Epoch 55: saving model to /content/Alphabet_Soup_Deep_Learning/checkpoints/First_Model/original.55.hdf5\n",
            "684/684 [==============================] - 1s 2ms/step - loss: 0.5390 - accuracy: 0.7351 - val_loss: 0.5449 - val_accuracy: 0.7365\n",
            "Epoch 56/150\n",
            "684/684 [==============================] - 1s 2ms/step - loss: 0.5396 - accuracy: 0.7346 - val_loss: 0.5446 - val_accuracy: 0.7344\n",
            "Epoch 57/150\n",
            "684/684 [==============================] - 1s 2ms/step - loss: 0.5393 - accuracy: 0.7349 - val_loss: 0.5455 - val_accuracy: 0.7372\n",
            "Epoch 58/150\n",
            "684/684 [==============================] - 2s 2ms/step - loss: 0.5394 - accuracy: 0.7355 - val_loss: 0.5436 - val_accuracy: 0.7367\n",
            "Epoch 59/150\n",
            "684/684 [==============================] - 1s 2ms/step - loss: 0.5393 - accuracy: 0.7349 - val_loss: 0.5437 - val_accuracy: 0.7367\n",
            "Epoch 60/150\n",
            "683/684 [============================>.] - ETA: 0s - loss: 0.5393 - accuracy: 0.7353\n",
            "Epoch 60: saving model to /content/Alphabet_Soup_Deep_Learning/checkpoints/First_Model/original.60.hdf5\n",
            "684/684 [==============================] - 2s 2ms/step - loss: 0.5392 - accuracy: 0.7353 - val_loss: 0.5442 - val_accuracy: 0.7378\n",
            "Epoch 61/150\n",
            "684/684 [==============================] - 1s 2ms/step - loss: 0.5392 - accuracy: 0.7345 - val_loss: 0.5434 - val_accuracy: 0.7359\n",
            "Epoch 62/150\n",
            "684/684 [==============================] - 2s 2ms/step - loss: 0.5392 - accuracy: 0.7358 - val_loss: 0.5434 - val_accuracy: 0.7375\n",
            "Epoch 63/150\n",
            "684/684 [==============================] - 2s 2ms/step - loss: 0.5389 - accuracy: 0.7345 - val_loss: 0.5455 - val_accuracy: 0.7352\n",
            "Epoch 64/150\n",
            "684/684 [==============================] - 2s 2ms/step - loss: 0.5393 - accuracy: 0.7348 - val_loss: 0.5436 - val_accuracy: 0.7370\n",
            "Epoch 65/150\n",
            "681/684 [============================>.] - ETA: 0s - loss: 0.5389 - accuracy: 0.7357\n",
            "Epoch 65: saving model to /content/Alphabet_Soup_Deep_Learning/checkpoints/First_Model/original.65.hdf5\n",
            "684/684 [==============================] - 2s 2ms/step - loss: 0.5390 - accuracy: 0.7355 - val_loss: 0.5452 - val_accuracy: 0.7372\n",
            "Epoch 66/150\n",
            "684/684 [==============================] - 1s 2ms/step - loss: 0.5393 - accuracy: 0.7354 - val_loss: 0.5450 - val_accuracy: 0.7354\n",
            "Epoch 67/150\n",
            "684/684 [==============================] - 1s 2ms/step - loss: 0.5393 - accuracy: 0.7343 - val_loss: 0.5435 - val_accuracy: 0.7344\n",
            "Epoch 68/150\n",
            "684/684 [==============================] - 2s 2ms/step - loss: 0.5390 - accuracy: 0.7367 - val_loss: 0.5446 - val_accuracy: 0.7365\n",
            "Epoch 69/150\n",
            "684/684 [==============================] - 2s 3ms/step - loss: 0.5391 - accuracy: 0.7355 - val_loss: 0.5427 - val_accuracy: 0.7354\n",
            "Epoch 70/150\n",
            "682/684 [============================>.] - ETA: 0s - loss: 0.5392 - accuracy: 0.7356\n",
            "Epoch 70: saving model to /content/Alphabet_Soup_Deep_Learning/checkpoints/First_Model/original.70.hdf5\n",
            "684/684 [==============================] - 2s 2ms/step - loss: 0.5390 - accuracy: 0.7357 - val_loss: 0.5459 - val_accuracy: 0.7352\n",
            "Epoch 71/150\n",
            "684/684 [==============================] - 2s 2ms/step - loss: 0.5390 - accuracy: 0.7357 - val_loss: 0.5441 - val_accuracy: 0.7367\n",
            "Epoch 72/150\n",
            "684/684 [==============================] - 2s 2ms/step - loss: 0.5388 - accuracy: 0.7353 - val_loss: 0.5462 - val_accuracy: 0.7344\n",
            "Epoch 73/150\n",
            "684/684 [==============================] - 2s 2ms/step - loss: 0.5393 - accuracy: 0.7350 - val_loss: 0.5435 - val_accuracy: 0.7349\n",
            "Epoch 74/150\n",
            "684/684 [==============================] - 2s 2ms/step - loss: 0.5389 - accuracy: 0.7352 - val_loss: 0.5434 - val_accuracy: 0.7346\n",
            "Epoch 75/150\n",
            "665/684 [============================>.] - ETA: 0s - loss: 0.5393 - accuracy: 0.7358\n",
            "Epoch 75: saving model to /content/Alphabet_Soup_Deep_Learning/checkpoints/First_Model/original.75.hdf5\n",
            "684/684 [==============================] - 1s 2ms/step - loss: 0.5389 - accuracy: 0.7364 - val_loss: 0.5439 - val_accuracy: 0.7362\n",
            "Epoch 76/150\n",
            "684/684 [==============================] - 1s 2ms/step - loss: 0.5390 - accuracy: 0.7369 - val_loss: 0.5439 - val_accuracy: 0.7370\n",
            "Epoch 77/150\n",
            "684/684 [==============================] - 1s 2ms/step - loss: 0.5388 - accuracy: 0.7346 - val_loss: 0.5445 - val_accuracy: 0.7362\n",
            "Epoch 78/150\n",
            "684/684 [==============================] - 2s 2ms/step - loss: 0.5393 - accuracy: 0.7358 - val_loss: 0.5453 - val_accuracy: 0.7365\n",
            "Epoch 79/150\n",
            "684/684 [==============================] - 2s 2ms/step - loss: 0.5392 - accuracy: 0.7344 - val_loss: 0.5454 - val_accuracy: 0.7349\n",
            "Epoch 80/150\n",
            "681/684 [============================>.] - ETA: 0s - loss: 0.5393 - accuracy: 0.7360\n",
            "Epoch 80: saving model to /content/Alphabet_Soup_Deep_Learning/checkpoints/First_Model/original.80.hdf5\n",
            "684/684 [==============================] - 2s 2ms/step - loss: 0.5392 - accuracy: 0.7360 - val_loss: 0.5437 - val_accuracy: 0.7365\n",
            "Epoch 81/150\n",
            "684/684 [==============================] - 2s 2ms/step - loss: 0.5389 - accuracy: 0.7361 - val_loss: 0.5424 - val_accuracy: 0.7331\n",
            "Epoch 82/150\n",
            "684/684 [==============================] - 2s 2ms/step - loss: 0.5392 - accuracy: 0.7356 - val_loss: 0.5443 - val_accuracy: 0.7357\n",
            "Epoch 83/150\n",
            "684/684 [==============================] - 1s 2ms/step - loss: 0.5388 - accuracy: 0.7357 - val_loss: 0.5458 - val_accuracy: 0.7346\n",
            "Epoch 84/150\n",
            "684/684 [==============================] - 1s 2ms/step - loss: 0.5388 - accuracy: 0.7367 - val_loss: 0.5446 - val_accuracy: 0.7362\n",
            "Epoch 85/150\n",
            "679/684 [============================>.] - ETA: 0s - loss: 0.5390 - accuracy: 0.7355\n",
            "Epoch 85: saving model to /content/Alphabet_Soup_Deep_Learning/checkpoints/First_Model/original.85.hdf5\n",
            "684/684 [==============================] - 2s 2ms/step - loss: 0.5389 - accuracy: 0.7357 - val_loss: 0.5427 - val_accuracy: 0.7375\n",
            "Epoch 86/150\n",
            "684/684 [==============================] - 1s 2ms/step - loss: 0.5388 - accuracy: 0.7359 - val_loss: 0.5435 - val_accuracy: 0.7372\n",
            "Epoch 87/150\n",
            "684/684 [==============================] - 1s 2ms/step - loss: 0.5389 - accuracy: 0.7361 - val_loss: 0.5440 - val_accuracy: 0.7365\n",
            "Epoch 88/150\n",
            "684/684 [==============================] - 1s 2ms/step - loss: 0.5387 - accuracy: 0.7352 - val_loss: 0.5435 - val_accuracy: 0.7367\n",
            "Epoch 89/150\n",
            "684/684 [==============================] - 1s 2ms/step - loss: 0.5387 - accuracy: 0.7364 - val_loss: 0.5445 - val_accuracy: 0.7370\n",
            "Epoch 90/150\n",
            "667/684 [============================>.] - ETA: 0s - loss: 0.5392 - accuracy: 0.7354\n",
            "Epoch 90: saving model to /content/Alphabet_Soup_Deep_Learning/checkpoints/First_Model/original.90.hdf5\n",
            "684/684 [==============================] - 2s 2ms/step - loss: 0.5390 - accuracy: 0.7354 - val_loss: 0.5442 - val_accuracy: 0.7352\n",
            "Epoch 91/150\n",
            "684/684 [==============================] - 2s 3ms/step - loss: 0.5388 - accuracy: 0.7360 - val_loss: 0.5441 - val_accuracy: 0.7378\n",
            "Epoch 92/150\n",
            "684/684 [==============================] - 2s 2ms/step - loss: 0.5387 - accuracy: 0.7359 - val_loss: 0.5451 - val_accuracy: 0.7362\n",
            "Epoch 93/150\n",
            "684/684 [==============================] - 2s 2ms/step - loss: 0.5390 - accuracy: 0.7347 - val_loss: 0.5458 - val_accuracy: 0.7362\n",
            "Epoch 94/150\n",
            "684/684 [==============================] - 2s 2ms/step - loss: 0.5391 - accuracy: 0.7361 - val_loss: 0.5443 - val_accuracy: 0.7378\n",
            "Epoch 95/150\n",
            "672/684 [============================>.] - ETA: 0s - loss: 0.5389 - accuracy: 0.7362\n",
            "Epoch 95: saving model to /content/Alphabet_Soup_Deep_Learning/checkpoints/First_Model/original.95.hdf5\n",
            "684/684 [==============================] - 1s 2ms/step - loss: 0.5388 - accuracy: 0.7361 - val_loss: 0.5443 - val_accuracy: 0.7362\n",
            "Epoch 96/150\n",
            "684/684 [==============================] - 2s 2ms/step - loss: 0.5389 - accuracy: 0.7361 - val_loss: 0.5454 - val_accuracy: 0.7352\n",
            "Epoch 97/150\n",
            "684/684 [==============================] - 1s 2ms/step - loss: 0.5389 - accuracy: 0.7361 - val_loss: 0.5452 - val_accuracy: 0.7367\n",
            "Epoch 98/150\n",
            "684/684 [==============================] - 2s 2ms/step - loss: 0.5387 - accuracy: 0.7343 - val_loss: 0.5446 - val_accuracy: 0.7365\n",
            "Epoch 99/150\n",
            "684/684 [==============================] - 2s 2ms/step - loss: 0.5386 - accuracy: 0.7355 - val_loss: 0.5448 - val_accuracy: 0.7365\n",
            "Epoch 100/150\n",
            "660/684 [===========================>..] - ETA: 0s - loss: 0.5389 - accuracy: 0.7357\n",
            "Epoch 100: saving model to /content/Alphabet_Soup_Deep_Learning/checkpoints/First_Model/original.100.hdf5\n",
            "684/684 [==============================] - 2s 2ms/step - loss: 0.5385 - accuracy: 0.7359 - val_loss: 0.5459 - val_accuracy: 0.7375\n",
            "Epoch 101/150\n",
            "684/684 [==============================] - 2s 2ms/step - loss: 0.5389 - accuracy: 0.7359 - val_loss: 0.5433 - val_accuracy: 0.7380\n",
            "Epoch 102/150\n",
            "684/684 [==============================] - 2s 2ms/step - loss: 0.5385 - accuracy: 0.7352 - val_loss: 0.5441 - val_accuracy: 0.7367\n",
            "Epoch 103/150\n",
            "684/684 [==============================] - 2s 2ms/step - loss: 0.5386 - accuracy: 0.7370 - val_loss: 0.5447 - val_accuracy: 0.7359\n",
            "Epoch 104/150\n",
            "684/684 [==============================] - 2s 2ms/step - loss: 0.5388 - accuracy: 0.7368 - val_loss: 0.5439 - val_accuracy: 0.7380\n",
            "Epoch 105/150\n",
            "678/684 [============================>.] - ETA: 0s - loss: 0.5390 - accuracy: 0.7360\n",
            "Epoch 105: saving model to /content/Alphabet_Soup_Deep_Learning/checkpoints/First_Model/original.105.hdf5\n",
            "684/684 [==============================] - 2s 2ms/step - loss: 0.5387 - accuracy: 0.7364 - val_loss: 0.5443 - val_accuracy: 0.7383\n",
            "Epoch 106/150\n",
            "684/684 [==============================] - 1s 2ms/step - loss: 0.5387 - accuracy: 0.7370 - val_loss: 0.5441 - val_accuracy: 0.7362\n",
            "Epoch 107/150\n",
            "684/684 [==============================] - 2s 2ms/step - loss: 0.5387 - accuracy: 0.7366 - val_loss: 0.5441 - val_accuracy: 0.7352\n",
            "Epoch 108/150\n",
            "684/684 [==============================] - 1s 2ms/step - loss: 0.5386 - accuracy: 0.7359 - val_loss: 0.5443 - val_accuracy: 0.7357\n",
            "Epoch 109/150\n",
            "684/684 [==============================] - 2s 2ms/step - loss: 0.5387 - accuracy: 0.7363 - val_loss: 0.5447 - val_accuracy: 0.7315\n",
            "Epoch 110/150\n",
            "660/684 [===========================>..] - ETA: 0s - loss: 0.5378 - accuracy: 0.7373\n",
            "Epoch 110: saving model to /content/Alphabet_Soup_Deep_Learning/checkpoints/First_Model/original.110.hdf5\n",
            "684/684 [==============================] - 2s 2ms/step - loss: 0.5385 - accuracy: 0.7368 - val_loss: 0.5463 - val_accuracy: 0.7385\n",
            "Epoch 111/150\n",
            "684/684 [==============================] - 2s 2ms/step - loss: 0.5385 - accuracy: 0.7361 - val_loss: 0.5437 - val_accuracy: 0.7391\n",
            "Epoch 112/150\n",
            "684/684 [==============================] - 1s 2ms/step - loss: 0.5385 - accuracy: 0.7366 - val_loss: 0.5432 - val_accuracy: 0.7365\n",
            "Epoch 113/150\n",
            "684/684 [==============================] - 2s 2ms/step - loss: 0.5386 - accuracy: 0.7354 - val_loss: 0.5434 - val_accuracy: 0.7359\n",
            "Epoch 114/150\n",
            "684/684 [==============================] - 1s 2ms/step - loss: 0.5388 - accuracy: 0.7348 - val_loss: 0.5452 - val_accuracy: 0.7359\n",
            "Epoch 115/150\n",
            "668/684 [============================>.] - ETA: 0s - loss: 0.5387 - accuracy: 0.7353\n",
            "Epoch 115: saving model to /content/Alphabet_Soup_Deep_Learning/checkpoints/First_Model/original.115.hdf5\n",
            "684/684 [==============================] - 2s 2ms/step - loss: 0.5385 - accuracy: 0.7351 - val_loss: 0.5449 - val_accuracy: 0.7362\n",
            "Epoch 116/150\n",
            "684/684 [==============================] - 1s 2ms/step - loss: 0.5385 - accuracy: 0.7359 - val_loss: 0.5464 - val_accuracy: 0.7344\n",
            "Epoch 117/150\n",
            "684/684 [==============================] - 2s 2ms/step - loss: 0.5383 - accuracy: 0.7366 - val_loss: 0.5465 - val_accuracy: 0.7357\n",
            "Epoch 118/150\n",
            "684/684 [==============================] - 1s 2ms/step - loss: 0.5389 - accuracy: 0.7352 - val_loss: 0.5459 - val_accuracy: 0.7372\n",
            "Epoch 119/150\n",
            "684/684 [==============================] - 2s 2ms/step - loss: 0.5386 - accuracy: 0.7357 - val_loss: 0.5451 - val_accuracy: 0.7354\n",
            "Epoch 120/150\n",
            "683/684 [============================>.] - ETA: 0s - loss: 0.5386 - accuracy: 0.7361\n",
            "Epoch 120: saving model to /content/Alphabet_Soup_Deep_Learning/checkpoints/First_Model/original.120.hdf5\n",
            "684/684 [==============================] - 2s 2ms/step - loss: 0.5385 - accuracy: 0.7361 - val_loss: 0.5436 - val_accuracy: 0.7370\n",
            "Epoch 121/150\n",
            "684/684 [==============================] - 2s 2ms/step - loss: 0.5386 - accuracy: 0.7359 - val_loss: 0.5457 - val_accuracy: 0.7365\n",
            "Epoch 122/150\n",
            "684/684 [==============================] - 1s 2ms/step - loss: 0.5386 - accuracy: 0.7355 - val_loss: 0.5441 - val_accuracy: 0.7308\n",
            "Epoch 123/150\n",
            "684/684 [==============================] - 1s 2ms/step - loss: 0.5385 - accuracy: 0.7364 - val_loss: 0.5453 - val_accuracy: 0.7318\n",
            "Epoch 124/150\n",
            "684/684 [==============================] - 1s 2ms/step - loss: 0.5387 - accuracy: 0.7349 - val_loss: 0.5447 - val_accuracy: 0.7370\n",
            "Epoch 125/150\n",
            "661/684 [===========================>..] - ETA: 0s - loss: 0.5371 - accuracy: 0.7369\n",
            "Epoch 125: saving model to /content/Alphabet_Soup_Deep_Learning/checkpoints/First_Model/original.125.hdf5\n",
            "684/684 [==============================] - 2s 2ms/step - loss: 0.5385 - accuracy: 0.7358 - val_loss: 0.5463 - val_accuracy: 0.7367\n",
            "Epoch 126/150\n",
            "684/684 [==============================] - 2s 2ms/step - loss: 0.5385 - accuracy: 0.7353 - val_loss: 0.5456 - val_accuracy: 0.7372\n",
            "Epoch 127/150\n",
            "684/684 [==============================] - 2s 2ms/step - loss: 0.5383 - accuracy: 0.7370 - val_loss: 0.5452 - val_accuracy: 0.7321\n",
            "Epoch 128/150\n",
            "684/684 [==============================] - 1s 2ms/step - loss: 0.5386 - accuracy: 0.7354 - val_loss: 0.5465 - val_accuracy: 0.7359\n",
            "Epoch 129/150\n",
            "684/684 [==============================] - 2s 2ms/step - loss: 0.5385 - accuracy: 0.7375 - val_loss: 0.5447 - val_accuracy: 0.7352\n",
            "Epoch 130/150\n",
            "670/684 [============================>.] - ETA: 0s - loss: 0.5381 - accuracy: 0.7362\n",
            "Epoch 130: saving model to /content/Alphabet_Soup_Deep_Learning/checkpoints/First_Model/original.130.hdf5\n",
            "684/684 [==============================] - 2s 2ms/step - loss: 0.5384 - accuracy: 0.7359 - val_loss: 0.5443 - val_accuracy: 0.7362\n",
            "Epoch 131/150\n",
            "684/684 [==============================] - 2s 2ms/step - loss: 0.5386 - accuracy: 0.7363 - val_loss: 0.5468 - val_accuracy: 0.7365\n",
            "Epoch 132/150\n",
            "684/684 [==============================] - 2s 2ms/step - loss: 0.5387 - accuracy: 0.7363 - val_loss: 0.5451 - val_accuracy: 0.7378\n",
            "Epoch 133/150\n",
            "684/684 [==============================] - 2s 2ms/step - loss: 0.5388 - accuracy: 0.7354 - val_loss: 0.5457 - val_accuracy: 0.7359\n",
            "Epoch 134/150\n",
            "684/684 [==============================] - 1s 2ms/step - loss: 0.5386 - accuracy: 0.7364 - val_loss: 0.5451 - val_accuracy: 0.7370\n",
            "Epoch 135/150\n",
            "684/684 [==============================] - ETA: 0s - loss: 0.5383 - accuracy: 0.7367\n",
            "Epoch 135: saving model to /content/Alphabet_Soup_Deep_Learning/checkpoints/First_Model/original.135.hdf5\n",
            "684/684 [==============================] - 2s 2ms/step - loss: 0.5383 - accuracy: 0.7367 - val_loss: 0.5456 - val_accuracy: 0.7365\n",
            "Epoch 136/150\n",
            "684/684 [==============================] - 1s 2ms/step - loss: 0.5387 - accuracy: 0.7365 - val_loss: 0.5468 - val_accuracy: 0.7362\n",
            "Epoch 137/150\n",
            "684/684 [==============================] - 2s 2ms/step - loss: 0.5389 - accuracy: 0.7360 - val_loss: 0.5447 - val_accuracy: 0.7349\n",
            "Epoch 138/150\n",
            "684/684 [==============================] - 2s 2ms/step - loss: 0.5383 - accuracy: 0.7365 - val_loss: 0.5461 - val_accuracy: 0.7336\n",
            "Epoch 139/150\n",
            "684/684 [==============================] - 1s 2ms/step - loss: 0.5385 - accuracy: 0.7358 - val_loss: 0.5459 - val_accuracy: 0.7365\n",
            "Epoch 140/150\n",
            "670/684 [============================>.] - ETA: 0s - loss: 0.5385 - accuracy: 0.7364\n",
            "Epoch 140: saving model to /content/Alphabet_Soup_Deep_Learning/checkpoints/First_Model/original.140.hdf5\n",
            "684/684 [==============================] - 2s 2ms/step - loss: 0.5386 - accuracy: 0.7363 - val_loss: 0.5451 - val_accuracy: 0.7365\n",
            "Epoch 141/150\n",
            "684/684 [==============================] - 1s 2ms/step - loss: 0.5385 - accuracy: 0.7364 - val_loss: 0.5459 - val_accuracy: 0.7359\n",
            "Epoch 142/150\n",
            "684/684 [==============================] - 1s 2ms/step - loss: 0.5384 - accuracy: 0.7366 - val_loss: 0.5472 - val_accuracy: 0.7354\n",
            "Epoch 143/150\n",
            "684/684 [==============================] - 1s 2ms/step - loss: 0.5384 - accuracy: 0.7364 - val_loss: 0.5466 - val_accuracy: 0.7352\n",
            "Epoch 144/150\n",
            "684/684 [==============================] - 1s 2ms/step - loss: 0.5385 - accuracy: 0.7362 - val_loss: 0.5462 - val_accuracy: 0.7362\n",
            "Epoch 145/150\n",
            "673/684 [============================>.] - ETA: 0s - loss: 0.5388 - accuracy: 0.7353\n",
            "Epoch 145: saving model to /content/Alphabet_Soup_Deep_Learning/checkpoints/First_Model/original.145.hdf5\n",
            "684/684 [==============================] - 2s 2ms/step - loss: 0.5387 - accuracy: 0.7354 - val_loss: 0.5448 - val_accuracy: 0.7365\n",
            "Epoch 146/150\n",
            "684/684 [==============================] - 1s 2ms/step - loss: 0.5382 - accuracy: 0.7359 - val_loss: 0.5468 - val_accuracy: 0.7352\n",
            "Epoch 147/150\n",
            "684/684 [==============================] - 1s 2ms/step - loss: 0.5384 - accuracy: 0.7359 - val_loss: 0.5471 - val_accuracy: 0.7318\n",
            "Epoch 148/150\n",
            "684/684 [==============================] - 2s 2ms/step - loss: 0.5378 - accuracy: 0.7358 - val_loss: 0.5475 - val_accuracy: 0.7370\n",
            "Epoch 149/150\n",
            "684/684 [==============================] - 2s 2ms/step - loss: 0.5384 - accuracy: 0.7365 - val_loss: 0.5454 - val_accuracy: 0.7359\n",
            "Epoch 150/150\n",
            "658/684 [===========================>..] - ETA: 0s - loss: 0.5390 - accuracy: 0.7354\n",
            "Epoch 150: saving model to /content/Alphabet_Soup_Deep_Learning/checkpoints/First_Model/original.150.hdf5\n",
            "684/684 [==============================] - 1s 2ms/step - loss: 0.5386 - accuracy: 0.7358 - val_loss: 0.5449 - val_accuracy: 0.7359\n"
          ]
        }
      ],
      "source": [
        "# Train the model\n",
        "fit_model = nn.fit(X_train_scaled,y_train,validation_split=0.15, epochs=150, callbacks=[callback])"
      ]
    },
    {
      "cell_type": "code",
      "execution_count": 57,
      "metadata": {
        "id": "lbyx9doHzRTt",
        "outputId": "fba75454-7687-44f0-b9fe-43478e3f8231",
        "colab": {
          "base_uri": "https://localhost:8080/"
        }
      },
      "outputs": [
        {
          "output_type": "stream",
          "name": "stdout",
          "text": [
            "268/268 - 0s - loss: 0.5530 - accuracy: 0.7317 - 305ms/epoch - 1ms/step\n",
            "Loss: 0.5529712438583374, Accuracy: 0.7316617965698242\n"
          ]
        }
      ],
      "source": [
        "# Evaluate the model using the test data\n",
        "model_loss, model_accuracy = nn.evaluate(X_test_scaled,y_test,verbose=2)\n",
        "print(f\"Loss: {model_loss}, Accuracy: {model_accuracy}\")"
      ]
    },
    {
      "cell_type": "code",
      "execution_count": 58,
      "metadata": {
        "id": "qzqj7QpSzRTt"
      },
      "outputs": [],
      "source": [
        "# Export our model to HDF5 file\n",
        "from google.colab import files\n",
        "\n",
        "nn.save('/content/Alphabet_Soup_Deep_Learning/files.h5/Model_1.h5')"
      ]
    },
    {
      "cell_type": "code",
      "source": [
        "%cd {repo}\n",
        "%ls"
      ],
      "metadata": {
        "colab": {
          "base_uri": "https://localhost:8080/"
        },
        "id": "Y_foCtKB_-4u",
        "outputId": "9a37dc48-5fee-4c9d-a566-02bb56f51d77"
      },
      "execution_count": 59,
      "outputs": [
        {
          "output_type": "stream",
          "name": "stdout",
          "text": [
            "/content/Alphabet_Soup_Deep_Learning\n",
            " AlphabetSoupCharity.ipynb                  \u001b[0m\u001b[01;34mcheckpoints\u001b[0m/   README.md\n",
            "'AlphabetSoupCharity _Optimization.ipynb'   \u001b[01;34mfiles.h5\u001b[0m/      \u001b[01;34mResources\u001b[0m/\n"
          ]
        }
      ]
    },
    {
      "cell_type": "code",
      "source": [
        "!git status"
      ],
      "metadata": {
        "colab": {
          "base_uri": "https://localhost:8080/"
        },
        "id": "_iuscnhuAWK-",
        "outputId": "2ccbc360-609d-4e53-ca48-09c0ad5d90cb"
      },
      "execution_count": 60,
      "outputs": [
        {
          "output_type": "stream",
          "name": "stdout",
          "text": [
            "On branch main\n",
            "Your branch is up to date with 'origin/main'.\n",
            "\n",
            "Changes not staged for commit:\n",
            "  (use \"git add <file>...\" to update what will be committed)\n",
            "  (use \"git checkout -- <file>...\" to discard changes in working directory)\n",
            "\n",
            "\t\u001b[31mmodified:   checkpoints/First_Model/original.10.hdf5\u001b[m\n",
            "\t\u001b[31mmodified:   checkpoints/First_Model/original.100.hdf5\u001b[m\n",
            "\t\u001b[31mmodified:   checkpoints/First_Model/original.105.hdf5\u001b[m\n",
            "\t\u001b[31mmodified:   checkpoints/First_Model/original.110.hdf5\u001b[m\n",
            "\t\u001b[31mmodified:   checkpoints/First_Model/original.115.hdf5\u001b[m\n",
            "\t\u001b[31mmodified:   checkpoints/First_Model/original.120.hdf5\u001b[m\n",
            "\t\u001b[31mmodified:   checkpoints/First_Model/original.125.hdf5\u001b[m\n",
            "\t\u001b[31mmodified:   checkpoints/First_Model/original.130.hdf5\u001b[m\n",
            "\t\u001b[31mmodified:   checkpoints/First_Model/original.135.hdf5\u001b[m\n",
            "\t\u001b[31mmodified:   checkpoints/First_Model/original.140.hdf5\u001b[m\n",
            "\t\u001b[31mmodified:   checkpoints/First_Model/original.145.hdf5\u001b[m\n",
            "\t\u001b[31mmodified:   checkpoints/First_Model/original.15.hdf5\u001b[m\n",
            "\t\u001b[31mmodified:   checkpoints/First_Model/original.150.hdf5\u001b[m\n",
            "\t\u001b[31mmodified:   checkpoints/First_Model/original.20.hdf5\u001b[m\n",
            "\t\u001b[31mmodified:   checkpoints/First_Model/original.25.hdf5\u001b[m\n",
            "\t\u001b[31mmodified:   checkpoints/First_Model/original.30.hdf5\u001b[m\n",
            "\t\u001b[31mmodified:   checkpoints/First_Model/original.35.hdf5\u001b[m\n",
            "\t\u001b[31mmodified:   checkpoints/First_Model/original.40.hdf5\u001b[m\n",
            "\t\u001b[31mmodified:   checkpoints/First_Model/original.45.hdf5\u001b[m\n",
            "\t\u001b[31mmodified:   checkpoints/First_Model/original.5.hdf5\u001b[m\n",
            "\t\u001b[31mmodified:   checkpoints/First_Model/original.50.hdf5\u001b[m\n",
            "\t\u001b[31mmodified:   checkpoints/First_Model/original.55.hdf5\u001b[m\n",
            "\t\u001b[31mmodified:   checkpoints/First_Model/original.60.hdf5\u001b[m\n",
            "\t\u001b[31mmodified:   checkpoints/First_Model/original.65.hdf5\u001b[m\n",
            "\t\u001b[31mmodified:   checkpoints/First_Model/original.70.hdf5\u001b[m\n",
            "\t\u001b[31mmodified:   checkpoints/First_Model/original.75.hdf5\u001b[m\n",
            "\t\u001b[31mmodified:   checkpoints/First_Model/original.80.hdf5\u001b[m\n",
            "\t\u001b[31mmodified:   checkpoints/First_Model/original.85.hdf5\u001b[m\n",
            "\t\u001b[31mmodified:   checkpoints/First_Model/original.90.hdf5\u001b[m\n",
            "\t\u001b[31mmodified:   checkpoints/First_Model/original.95.hdf5\u001b[m\n",
            "\t\u001b[31mmodified:   files.h5/Model_1.h5\u001b[m\n",
            "\n",
            "no changes added to commit (use \"git add\" and/or \"git commit -a\")\n"
          ]
        }
      ]
    },
    {
      "cell_type": "code",
      "source": [
        "!git add --all"
      ],
      "metadata": {
        "id": "I66S_WuKAg84"
      },
      "execution_count": 61,
      "outputs": []
    },
    {
      "cell_type": "code",
      "source": [
        "!git commit -m'Final Check'"
      ],
      "metadata": {
        "colab": {
          "base_uri": "https://localhost:8080/"
        },
        "id": "yyt_ypUiAjnJ",
        "outputId": "622f28a9-4ed2-43e5-d138-a1f480be29bb"
      },
      "execution_count": 62,
      "outputs": [
        {
          "output_type": "stream",
          "name": "stdout",
          "text": [
            "[main e10868b] Final Check\n",
            " 31 files changed, 0 insertions(+), 0 deletions(-)\n"
          ]
        }
      ]
    },
    {
      "cell_type": "code",
      "source": [
        "!git push origin main"
      ],
      "metadata": {
        "colab": {
          "base_uri": "https://localhost:8080/"
        },
        "id": "04dump8GAoSA",
        "outputId": "865b57f7-0e7a-4552-ffd0-0a1cc24f89a9"
      },
      "execution_count": 63,
      "outputs": [
        {
          "output_type": "stream",
          "name": "stdout",
          "text": [
            "Counting objects: 36, done.\n",
            "Delta compression using up to 2 threads.\n",
            "Compressing objects:   2% (1/36)   \rCompressing objects:   5% (2/36)   \rCompressing objects:   8% (3/36)   \rCompressing objects:  11% (4/36)   \rCompressing objects:  13% (5/36)   \rCompressing objects:  16% (6/36)   \rCompressing objects:  19% (7/36)   \rCompressing objects:  22% (8/36)   \rCompressing objects:  25% (9/36)   \rCompressing objects:  27% (10/36)   \rCompressing objects:  30% (11/36)   \rCompressing objects:  33% (12/36)   \rCompressing objects:  36% (13/36)   \rCompressing objects:  38% (14/36)   \rCompressing objects:  41% (15/36)   \rCompressing objects:  44% (16/36)   \rCompressing objects:  47% (17/36)   \rCompressing objects:  50% (18/36)   \rCompressing objects:  52% (19/36)   \rCompressing objects:  55% (20/36)   \rCompressing objects:  58% (21/36)   \rCompressing objects:  61% (22/36)   \rCompressing objects:  63% (23/36)   \rCompressing objects:  66% (24/36)   \rCompressing objects:  69% (25/36)   \rCompressing objects:  72% (26/36)   \rCompressing objects:  75% (27/36)   \rCompressing objects:  77% (28/36)   \rCompressing objects:  80% (29/36)   \rCompressing objects:  83% (30/36)   \rCompressing objects:  86% (31/36)   \rCompressing objects:  88% (32/36)   \rCompressing objects:  91% (33/36)   \rCompressing objects:  94% (34/36)   \rCompressing objects:  97% (35/36)   \rCompressing objects: 100% (36/36)   \rCompressing objects: 100% (36/36), done.\n",
            "Writing objects:   2% (1/36)   \rWriting objects:   5% (2/36)   \rWriting objects:   8% (3/36)   \rWriting objects:  11% (4/36)   \rWriting objects:  16% (6/36)   \rWriting objects:  19% (7/36)   \rWriting objects:  25% (9/36)   \rWriting objects:  27% (10/36)   \rWriting objects:  30% (11/36)   \rWriting objects:  33% (12/36)   \rWriting objects:  36% (13/36)   \rWriting objects:  38% (14/36)   \rWriting objects:  41% (15/36)   \rWriting objects:  44% (16/36)   \rWriting objects:  47% (17/36)   \rWriting objects:  50% (18/36)   \rWriting objects:  52% (19/36)   \rWriting objects:  55% (20/36)   \rWriting objects:  58% (21/36)   \rWriting objects:  61% (22/36)   \rWriting objects:  63% (23/36)   \rWriting objects:  66% (24/36)   \rWriting objects:  69% (25/36)   \rWriting objects:  72% (26/36)   \rWriting objects:  75% (27/36)   \rWriting objects:  77% (28/36)   \rWriting objects:  80% (29/36)   \rWriting objects:  83% (30/36)   \rWriting objects:  86% (31/36)   \rWriting objects:  88% (32/36)   \rWriting objects:  91% (33/36)   \rWriting objects:  94% (34/36)   \rWriting objects:  97% (35/36)   \rWriting objects: 100% (36/36)   \rWriting objects: 100% (36/36), 78.51 KiB | 5.23 MiB/s, done.\n",
            "Total 36 (delta 33), reused 0 (delta 0)\n",
            "remote: Resolving deltas: 100% (33/33), completed with 5 local objects.\u001b[K\n",
            "To https://github.com/Bc-AJPR/Alphabet_Soup_Deep_Learning\n",
            "   181744c..e10868b  main -> main\n"
          ]
        }
      ]
    }
  ],
  "metadata": {
    "kernelspec": {
      "display_name": "Python 3",
      "language": "python",
      "name": "python3"
    },
    "language_info": {
      "codemirror_mode": {
        "name": "ipython",
        "version": 3
      },
      "file_extension": ".py",
      "mimetype": "text/x-python",
      "name": "python",
      "nbconvert_exporter": "python",
      "pygments_lexer": "ipython3",
      "version": "3.7.6"
    },
    "colab": {
      "name": "AlphabetSoupCharity (1).ipynb",
      "provenance": [],
      "collapsed_sections": [],
      "include_colab_link": true
    }
  },
  "nbformat": 4,
  "nbformat_minor": 0
}